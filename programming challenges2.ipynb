{
 "cells": [
  {
   "cell_type": "code",
   "execution_count": 9,
   "id": "567f8647",
   "metadata": {},
   "outputs": [
    {
     "name": "stdout",
     "output_type": "stream",
     "text": [
      "would you like some advice?y\n",
      "always know where your towel is.\n"
     ]
    }
   ],
   "source": [
    "#program 20  advice please\n",
    "\n",
    "advice=str(input(\"would you like some advice?\"))\n",
    "if advice==\"y\":\n",
    "    print(\"always know where your towel is.\")    "
   ]
  },
  {
   "cell_type": "code",
   "execution_count": 13,
   "id": "51fdaab9",
   "metadata": {},
   "outputs": [
    {
     "name": "stdout",
     "output_type": "stream",
     "text": [
      "what is black's score?88\n",
      "what is white's score84\n",
      "after 6.5 is added the score is:\n",
      "black- 88\n",
      "white- 90.5\n",
      "white is the winner\n"
     ]
    }
   ],
   "source": [
    "#program 21 go winner\n",
    "\n",
    "score1=int(input(\"what is black's score?\"))\n",
    "score2=int(input(\"what is white's score\"))\n",
    "w=score2+6.5\n",
    "print(\"after 6.5 is added the score is:\")\n",
    "print(\"black-\",score1)\n",
    "print(\"white-\",w)\n",
    "if score1<w:\n",
    "    print(\"white is the winner\")\n",
    "else:   \n",
    "    print(\"black is the winner\")"
   ]
  },
  {
   "cell_type": "code",
   "execution_count": 17,
   "id": "91aff1fe",
   "metadata": {},
   "outputs": [
    {
     "name": "stdout",
     "output_type": "stream",
     "text": [
      "please enter the first amount raised.398\n",
      "please enter the second amount raised193\n",
      "please enter the third amount raised478\n",
      "A total of $1069 was raised\n",
      "This will be doubled to $2138\n"
     ]
    }
   ],
   "source": [
    "#program 22 charity collection\n",
    "\n",
    "amou1=int(input(\"please enter the first amount raised.\"))\n",
    "amou2=int(input(\"please enter the second amount raised\"))\n",
    "amou3=int(input(\"please enter the third amount raised\"))\n",
    "tot=amou1+amou2+amou3\n",
    "if tot>=1000:\n",
    "    dou=2*tot\n",
    "print(\"A total of $\"+str(tot),\"was raised\")\n",
    "print(\"This will be doubled to $\"+str(dou))"
   ]
  },
  {
   "cell_type": "code",
   "execution_count": 20,
   "id": "b6a0aef2",
   "metadata": {},
   "outputs": [
    {
     "name": "stdout",
     "output_type": "stream",
     "text": [
      "Rectangle 1\n",
      "Please enter the length12\n",
      "Please enter the width6\n",
      "rectangle 2\n",
      "please enter the lenth7\n",
      "please enter the width9\n",
      "Rectangle 1 has the largest area.\n"
     ]
    }
   ],
   "source": [
    "#program 23 Calculate the area of a rectangle(part2)\n",
    "\n",
    "print(\"Rectangle 1\")\n",
    "length=int(input(\"Please enter the length\"))\n",
    "width=int(input(\"Please enter the width\"))\n",
    "print(\"rectangle 2\")\n",
    "length1=int(input(\"please enter the lenth\"))\n",
    "width1=int(input(\"please enter the width\"))\n",
    "area1=length*width\n",
    "area2=length1*width\n",
    "if area1>area2:\n",
    "    print(\"Rectangle 1 has the largest area.\")\n",
    "else:\n",
    "    print(\"Rectangle 2 has the largest area.\")"
   ]
  },
  {
   "cell_type": "code",
   "execution_count": 6,
   "id": "a6868036",
   "metadata": {},
   "outputs": [
    {
     "name": "stdout",
     "output_type": "stream",
     "text": [
      "Enter sentence 1You can't handle the truth!\n",
      "Enter sentence 2Houston, we have a problem\n",
      "The percentage of vowels in sentence 1 is: 25.93\n",
      "The percentage of vowels in sentence 2 is: 34.62\n",
      "sentence 1 has 7 vowels\n",
      "sentence 2 has 9 vowels\n",
      "sentence 2 has more vowels\n"
     ]
    }
   ],
   "source": [
    "#program 24  the most vowels\n",
    "\n",
    "sen1=str(input(\"Enter sentence 1\"))\n",
    "sen2=str(input(\"Enter sentence 2\"))\n",
    "a1=len(sen1)\n",
    "a2=len(sen2)\n",
    "s=sen1.count(\"a\")\n",
    "s1=sen1.count(\"e\")\n",
    "s2=sen1.count(\"i\")\n",
    "s3=sen1.count(\"o\")\n",
    "s4=sen1.count(\"u\")\n",
    "s5=s+s1+s2+s3+s4\n",
    "s6=sen2.count(\"a\")\n",
    "s7=sen2.count(\"e\")\n",
    "s8=sen2.count(\"i\")\n",
    "s9=sen2.count(\"o\")\n",
    "s10=sen2.count(\"u\")\n",
    "s11=s6+s7+s8+s9+s10\n",
    "per1=(100)/len(sen1)*s5\n",
    "per2=(100)/len(sen2)*s11\n",
    "print(\"The percentage of vowels in sentence 1 is:\",round(per1,2))\n",
    "print(\"The percentage of vowels in sentence 2 is:\",round(per2,2))\n",
    "print(\"sentence 1 has\",s5,\"vowels\")\n",
    "print(\"sentence 2 has\",s11,\"vowels\")\n",
    "if s5>s11:\n",
    "    print(\"sentence 1 has more vowels\")\n",
    "else:    \n",
    "    print(\"sentence 2 has more vowels\")"
   ]
  },
  {
   "cell_type": "code",
   "execution_count": 12,
   "id": "c2004e4f",
   "metadata": {},
   "outputs": [
    {
     "name": "stdout",
     "output_type": "stream",
     "text": [
      "Would you like some advice?D\n",
      "Sorry, you were asked to enter Y or N.\n"
     ]
    }
   ],
   "source": [
    "#program 25 Advice please (part2)\n",
    "\n",
    "adv=str(input(\"Would you like some advice?\"))\n",
    "if adv==\"Y\":\n",
    "    print(\"always know where your towel is.\")\n",
    "elif adv==\"N\":\n",
    "    print(\"error\")\n",
    "else:\n",
    "    print(\"Sorry, you were asked to enter Y or N.\")"
   ]
  },
  {
   "cell_type": "code",
   "execution_count": 25,
   "id": "5be1ee93",
   "metadata": {},
   "outputs": [
    {
     "name": "stdout",
     "output_type": "stream",
     "text": [
      "Please enter the test speed(mph)50\n",
      "please enter the tested stopping distance(m)39.7\n",
      "your car failed the braking distance test.\n"
     ]
    }
   ],
   "source": [
    "#program  26 Car tyre check\n",
    "\n",
    "speed=int(input(\"Please enter the test speed(mph)\"))\n",
    "distance=float(input(\"please enter the tested stopping distance(m)\"))\n",
    "if speed==30:\n",
    "    distance<=14\n",
    "    print(\"you car passed the braking test.\")\n",
    "elif speed==50:\n",
    "    distance<=38\n",
    "    print(\"your car failed the braking distance test.\")\n"
   ]
  },
  {
   "cell_type": "code",
   "execution_count": 23,
   "id": "c62b0981",
   "metadata": {},
   "outputs": [
    {
     "name": "stdout",
     "output_type": "stream",
     "text": [
      "please enter the first amount raised740\n",
      "please enter the second amount raised690\n",
      "please enter the third amount raised1024\n",
      "A total of $2454 was raised\n",
      "with the company bonus, this is $4454\n"
     ]
    }
   ],
   "source": [
    "#program 27  charity collection\n",
    "\n",
    "am1=int(input(\"please enter the first amount raised\"))\n",
    "am2=int(input(\"please enter the second amount raised\"))\n",
    "am3=int(input(\"please enter the third amount raised\"))\n",
    "total=am1+am2+am3\n",
    "print(\"A total of $\"+str(total),\"was raised\")\n",
    "if total<1000:\n",
    "    tot=total+100\n",
    "    print(\"with the company boonus, this is $\"+str(tot))\n",
    "elif total>1000 and total<2000:\n",
    "    tot1=total*2\n",
    "    print(\"with the company bonus, this is $\"+str(tot1))\n",
    "elif total>2000:\n",
    "    tot2=total+2000\n",
    "    print(\"with the company bonus, this is $\"+str(tot2))"
   ]
  }
 ],
 "metadata": {
  "kernelspec": {
   "display_name": "Python 3",
   "language": "python",
   "name": "python3"
  },
  "language_info": {
   "codemirror_mode": {
    "name": "ipython",
    "version": 3
   },
   "file_extension": ".py",
   "mimetype": "text/x-python",
   "name": "python",
   "nbconvert_exporter": "python",
   "pygments_lexer": "ipython3",
   "version": "3.8.8"
  }
 },
 "nbformat": 4,
 "nbformat_minor": 5
}
