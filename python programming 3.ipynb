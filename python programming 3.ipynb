{
 "cells": [
  {
   "cell_type": "code",
   "execution_count": 4,
   "id": "a3fdd703",
   "metadata": {},
   "outputs": [
    {
     "name": "stdout",
     "output_type": "stream",
     "text": [
      "Which sentence would you like copied?Don't behave like a muppet in a class.\n",
      "Don't behave like a muppet in a class.\n",
      "Don't behave like a muppet in a class.\n",
      "Don't behave like a muppet in a class.\n",
      "Don't behave like a muppet in a class.\n",
      "Don't behave like a muppet in a class.\n",
      "Don't behave like a muppet in a class.\n",
      "Don't behave like a muppet in a class.\n",
      "Don't behave like a muppet in a class.\n",
      "Don't behave like a muppet in a class.\n",
      "Don't behave like a muppet in a class.\n",
      "Don't behave like a muppet in a class.\n",
      "Don't behave like a muppet in a class.\n",
      "Don't behave like a muppet in a class.\n",
      "Don't behave like a muppet in a class.\n",
      "Don't behave like a muppet in a class.\n",
      "Don't behave like a muppet in a class.\n",
      "Don't behave like a muppet in a class.\n",
      "Don't behave like a muppet in a class.\n",
      "Don't behave like a muppet in a class.\n",
      "Don't behave like a muppet in a class.\n"
     ]
    }
   ],
   "source": [
    "#program 28 Lines cheat\n",
    "\n",
    "sen=(input(\"Which sentence would you like copied?\"))\n",
    "for loop in range(20):\n",
    "    print(sen)\n",
    "\n"
   ]
  },
  {
   "cell_type": "code",
   "execution_count": 10,
   "id": "a0dd9589",
   "metadata": {},
   "outputs": [
    {
     "name": "stdout",
     "output_type": "stream",
     "text": [
      "please enter the first amount raised398\n",
      "please enter the second amount raised193\n",
      "please enter the third amount raised478\n",
      "A total of $1069 was raised\n",
      "This will be doubled to:\n",
      "$2138!!!\n",
      "$2138!!!\n",
      "$2138!!!\n"
     ]
    }
   ],
   "source": [
    "#program 29  Charity collection\n",
    "\n",
    "am1=int(input(\"please enter the first amount raised\"))\n",
    "am2=int(input(\"please enter the second amount raised\"))\n",
    "am3=int(input(\"please enter the third amount raised\"))\n",
    "total=am1+am2+am3\n",
    "dou=2*total\n",
    "print(\"A total of $\"+str(total),\"was raised\")\n",
    "print(\"This will be doubled to:\")\n",
    "for loop in range(3):\n",
    "    print(\"$\"+str(dou)+\"!!!\")"
   ]
  },
  {
   "cell_type": "code",
   "execution_count": 13,
   "id": "426e9279",
   "metadata": {},
   "outputs": [
    {
     "name": "stdout",
     "output_type": "stream",
     "text": [
      "please enter the first name:Matt\n",
      "please enter the surname:Reid\n",
      "M R MATT reid MattReid\n",
      "MattReid REID matt r m\n",
      "M R MATT reid MattReid\n",
      "MattReid REID matt r m\n",
      "M R MATT reid MattReid\n",
      "MattReid REID matt r m\n"
     ]
    }
   ],
   "source": [
    "#program 30 Name switch\n",
    "\n",
    "fn=input(\"please enter the first name:\")\n",
    "sn=input(\"please enter the surname:\")\n",
    "n=fn+sn\n",
    "for loop in range(3):\n",
    "    print(fn[0:1],sn[0:1],fn.upper(),sn.lower(),n)\n",
    "    print(n,sn.upper(),fn.lower(),sn[0:1].lower(),fn[0:1].lower())"
   ]
  },
  {
   "cell_type": "code",
   "execution_count": 17,
   "id": "79e636e5",
   "metadata": {},
   "outputs": [
    {
     "name": "stdout",
     "output_type": "stream",
     "text": [
      "please enter the score for each ball.\n",
      "0\n",
      "2\n",
      "0\n",
      "0\n",
      "4\n",
      "6\n",
      "This over's score was: 12\n"
     ]
    }
   ],
   "source": [
    "#program 31  Cricket over\n",
    "\n",
    "ball=0\n",
    "print(\"please enter the score for each ball.\")\n",
    "for loop in range(6):\n",
    "    run=int(input())\n",
    "    ball=ball+run\n",
    "print(\"This over's score was:\",ball)\n",
    "    \n",
    "    "
   ]
  },
  {
   "cell_type": "code",
   "execution_count": 18,
   "id": "1ccc8fe4",
   "metadata": {},
   "outputs": [
    {
     "name": "stdout",
     "output_type": "stream",
     "text": [
      "please enter the seven temperatures.\n",
      "12\n",
      "14\n",
      "7\n",
      "6\n",
      "7\n",
      "11\n",
      "11\n",
      "This week's average was: 9.71 degrees centigrade\n"
     ]
    }
   ],
   "source": [
    "#program 32  Average temperature\n",
    "\n",
    "temp=0\n",
    "print(\"please enter the seven temperatures.\")\n",
    "for loop in range(7):\n",
    "    temperature=int(input())\n",
    "    temp=temp+temperature\n",
    "avg=temp/7\n",
    "print(\"This week's average was:\",round(avg,2),\"degrees centigrade\")"
   ]
  },
  {
   "cell_type": "code",
   "execution_count": 20,
   "id": "76c88315",
   "metadata": {},
   "outputs": [
    {
     "name": "stdout",
     "output_type": "stream",
     "text": [
      "which sentence would you like copied?\n",
      "Mr Reid is the best teacher.\n",
      "How many times would you like this copied?\n",
      "54\n",
      "Mr Reid is the best teacher.\n",
      "Mr Reid is the best teacher.\n",
      "Mr Reid is the best teacher.\n",
      "Mr Reid is the best teacher.\n",
      "Mr Reid is the best teacher.\n",
      "Mr Reid is the best teacher.\n",
      "Mr Reid is the best teacher.\n",
      "Mr Reid is the best teacher.\n",
      "Mr Reid is the best teacher.\n",
      "Mr Reid is the best teacher.\n",
      "Mr Reid is the best teacher.\n",
      "Mr Reid is the best teacher.\n",
      "Mr Reid is the best teacher.\n",
      "Mr Reid is the best teacher.\n",
      "Mr Reid is the best teacher.\n",
      "Mr Reid is the best teacher.\n",
      "Mr Reid is the best teacher.\n",
      "Mr Reid is the best teacher.\n",
      "Mr Reid is the best teacher.\n",
      "Mr Reid is the best teacher.\n",
      "Mr Reid is the best teacher.\n",
      "Mr Reid is the best teacher.\n",
      "Mr Reid is the best teacher.\n",
      "Mr Reid is the best teacher.\n",
      "Mr Reid is the best teacher.\n",
      "Mr Reid is the best teacher.\n",
      "Mr Reid is the best teacher.\n",
      "Mr Reid is the best teacher.\n",
      "Mr Reid is the best teacher.\n",
      "Mr Reid is the best teacher.\n",
      "Mr Reid is the best teacher.\n",
      "Mr Reid is the best teacher.\n",
      "Mr Reid is the best teacher.\n",
      "Mr Reid is the best teacher.\n",
      "Mr Reid is the best teacher.\n",
      "Mr Reid is the best teacher.\n",
      "Mr Reid is the best teacher.\n",
      "Mr Reid is the best teacher.\n",
      "Mr Reid is the best teacher.\n",
      "Mr Reid is the best teacher.\n",
      "Mr Reid is the best teacher.\n",
      "Mr Reid is the best teacher.\n",
      "Mr Reid is the best teacher.\n",
      "Mr Reid is the best teacher.\n",
      "Mr Reid is the best teacher.\n",
      "Mr Reid is the best teacher.\n",
      "Mr Reid is the best teacher.\n",
      "Mr Reid is the best teacher.\n",
      "Mr Reid is the best teacher.\n",
      "Mr Reid is the best teacher.\n",
      "Mr Reid is the best teacher.\n",
      "Mr Reid is the best teacher.\n",
      "Mr Reid is the best teacher.\n",
      "Mr Reid is the best teacher.\n"
     ]
    }
   ],
   "source": [
    "#program 33 Lines cheat(part2)\n",
    "\n",
    "print(\"which sentence would you like copied?\")\n",
    "sen=input()\n",
    "print(\"How many times would you like this copied?\")\n",
    "a=int(input())\n",
    "for loop in range(a):\n",
    "    print(sen)"
   ]
  },
  {
   "cell_type": "code",
   "execution_count": 23,
   "id": "caf31d8e",
   "metadata": {},
   "outputs": [
    {
     "name": "stdout",
     "output_type": "stream",
     "text": [
      "how many charity raisers were there?\n",
      "6\n",
      "enter the total raised by each:\n",
      "238\n",
      "624\n",
      "546\n",
      "333\n",
      "651\n",
      "174\n",
      "A total of $2566 was raised\n",
      "This will be increased to:\n",
      "$4566!!!\n",
      "$4566!!!\n",
      "$4566!!!\n"
     ]
    }
   ],
   "source": [
    "#program 34  Charity collection(part 4)\n",
    "\n",
    "amount=0\n",
    "print(\"how many charity raisers were there?\")\n",
    "a=int(input())\n",
    "print(\"enter the total raised by each:\")\n",
    "for loop in range(a):\n",
    "    a=int(input())\n",
    "    amount=amount+a\n",
    "dou=amount+2000\n",
    "print(\"A total of $\"+str(amount),\"was raised\")\n",
    "print(\"This will be increased to:\")\n",
    "for loop in range(3):\n",
    "    print(\"$\"+str(dou)+\"!!!\")"
   ]
  },
  {
   "cell_type": "code",
   "execution_count": 4,
   "id": "26d1587b",
   "metadata": {},
   "outputs": [
    {
     "name": "stdout",
     "output_type": "stream",
     "text": [
      "please enter the number of students:\n",
      "3\n",
      "enter the time in seconds for each student.\n",
      "student 1\n",
      "82\n",
      "student 2\n",
      "67\n",
      "student 3\n",
      "45\n",
      "The average time for the 3 students was: 64.67 seconds\n"
     ]
    }
   ],
   "source": [
    "#program 35  Press up challenge\n",
    "\n",
    "m=0\n",
    "print(\"please enter the number of students:\")\n",
    "a=int(input())\n",
    "print(\"enter the time in seconds for each student.\")\n",
    "for loop in range(a):\n",
    "    print(\"student\",loop+1)\n",
    "    i=int(input())\n",
    "    m=m+i\n",
    "avg=m/a\n",
    "print(\"The average time for the\",a,\"students was:\",round(avg,2),\"seconds\")\n",
    "\n",
    "    \n",
    "\n",
    "\n"
   ]
  },
  {
   "cell_type": "code",
   "execution_count": 6,
   "id": "9522d48f",
   "metadata": {},
   "outputs": [
    {
     "name": "stdout",
     "output_type": "stream",
     "text": [
      "odd numbers list\n",
      "\n",
      "1\n",
      "3\n",
      "5\n",
      "7\n",
      "9\n",
      "11\n"
     ]
    }
   ],
   "source": [
    "#program 36 Number patterns\n",
    "\n",
    "print(\"odd numbers list\")\n",
    "a=input()\n",
    "for loop in range(1,12,2):\n",
    "    print(loop)"
   ]
  },
  {
   "cell_type": "code",
   "execution_count": 7,
   "id": "72208244",
   "metadata": {},
   "outputs": [
    {
     "name": "stdout",
     "output_type": "stream",
     "text": [
      "Enter the first number in the list\n",
      "5\n",
      "enter the last numberin the list\n",
      "13\n",
      "5\n",
      "7\n",
      "9\n",
      "11\n",
      "13\n"
     ]
    }
   ],
   "source": [
    "#program 37  Number patterns(part 2)\n",
    "\n",
    "print(\"Enter the first number in the list\")\n",
    "a=int(input())\n",
    "print(\"enter the last number in the list\")\n",
    "b=int(input())\n",
    "for loop in range(a,b+1,2):\n",
    "    print(loop)"
   ]
  },
  {
   "cell_type": "code",
   "execution_count": 21,
   "id": "1d7b4ccf",
   "metadata": {},
   "outputs": [
    {
     "name": "stdout",
     "output_type": "stream",
     "text": [
      "Please enter the passwordsnool\n",
      "Sorry incorrect! Try again\n",
      "Please enter the password\n",
      "ornery\n",
      "Entry gained!\n"
     ]
    }
   ],
   "source": [
    "#program 38  password\n",
    "\n",
    "a=input(\"Please enter the password\")\n",
    "while not a==\"ornery\":\n",
    "    print(\"Sorry incorrect! Try again\")\n",
    "    print(\"Please enter the password\")\n",
    "    a=input()\n",
    "print(\"Entry gained!\")    "
   ]
  },
  {
   "cell_type": "code",
   "execution_count": 42,
   "id": "1c538afc",
   "metadata": {},
   "outputs": [
    {
     "name": "stdout",
     "output_type": "stream",
     "text": [
      "Enter the first number in the list\n",
      "5\n",
      "Enter the last number in the list\n",
      "17\n",
      "sorry,the number must be at least 5 +20\n",
      "please re enter the number\n",
      "27\n",
      "Odd Numbers List\n",
      "5\n",
      "7\n",
      "9\n",
      "11\n",
      "13\n",
      "15\n",
      "17\n",
      "19\n",
      "21\n",
      "23\n",
      "25\n"
     ]
    }
   ],
   "source": [
    "#program 39  Number pattern(part 3)\n",
    "\n",
    "print(\"Enter the first number in the list\")\n",
    "a=int(input())\n",
    "print(\"Enter the last number in the list\")\n",
    "b=int(input())\n",
    "while b<a+20:\n",
    "    print(\"sorry,the number must be at least\",a,\"+20\")\n",
    "    print(\"please re enter the number\")\n",
    "    b=int(input())\n",
    "print(\"Odd Numbers List\")\n",
    "for loop in range(a,b,2):\n",
    "    print(loop)"
   ]
  },
  {
   "cell_type": "code",
   "execution_count": 51,
   "id": "dcff0bc1",
   "metadata": {},
   "outputs": [
    {
     "name": "stdout",
     "output_type": "stream",
     "text": [
      "Would you like some Advice?\n",
      "H\n",
      "Please enter Y or N only\n",
      "Would you like some advice?\n",
      "N\n",
      "Don't be silly.You definitely need advice:\n",
      "Would you like some advice?\n",
      "Y\n",
      "Don't feed trolls\n"
     ]
    }
   ],
   "source": [
    "#program 40  Advice please(part 3)\n",
    "\n",
    "print(\"Would you like some Advice?\")\n",
    "a=input()\n",
    "while not a==\"Y\" or a==\"N\":\n",
    "    print(\"Please enter Y or N only\")\n",
    "    print(\"Would you like some advice?\")\n",
    "    a=input()\n",
    "    while a==\"N\":\n",
    "        print(\"Don't be silly.You definitely need advice:\")\n",
    "        print(\"Would you like some advice?\")\n",
    "        a=input()\n",
    "print(\"Don't feed trolls\")"
   ]
  },
  {
   "cell_type": "code",
   "execution_count": 3,
   "id": "95905cf3",
   "metadata": {},
   "outputs": [
    {
     "name": "stdout",
     "output_type": "stream",
     "text": [
      "Please enter the price of each presents:\n",
      "35\n",
      "100\n",
      "50\n",
      "45\n",
      "Limit exceeded\n",
      "You can't include the $45 present\n"
     ]
    }
   ],
   "source": [
    "#program 41 No more presents\n",
    "\n",
    "print(\"Please enter the price of each presents:\")\n",
    "price=0\n",
    "tot=0\n",
    "while tot<200:\n",
    "    price=int(input())\n",
    "    tot=tot+price\n",
    "print(\"Limit exceeded\")\n",
    "print(\"You can't include the $\"+str(price),\"present\")"
   ]
  },
  {
   "cell_type": "code",
   "execution_count": 6,
   "id": "08aea835",
   "metadata": {},
   "outputs": [
    {
     "name": "stdout",
     "output_type": "stream",
     "text": [
      "enter your menu choice(Q,A,K or L)\n",
      "V\n",
      "V is not valid.Enter Q,A,K or L\n",
      "L\n",
      "L selected\n"
     ]
    }
   ],
   "source": [
    "#program 42 Menu Systems\n",
    "\n",
    "print(\"enter your menu choice(Q,A,K or L)\")\n",
    "choice=input()\n",
    "while not choice==\"Q\"or choice==\"A\"or choice==\"K\" or choice==\"L\":\n",
    "    if choice==\"q\"or choice==\"a\"or choice==\"k\" or choice==\"l\":\n",
    "        choice=choice.upper()\n",
    "        break\n",
    "    else:\n",
    "        print(choice,\"is not valid.Enter Q,A,K or L\")\n",
    "        choice=input()\n",
    "        break\n",
    "print(choice,\"selected\")"
   ]
  },
  {
   "cell_type": "code",
   "execution_count": null,
   "id": "6c53204d",
   "metadata": {},
   "outputs": [
    {
     "name": "stdout",
     "output_type": "stream",
     "text": [
      "Guess the hidden number between 1 and 100.\n",
      "112\n",
      "You guess was not valid.Enter it again\n",
      "67\n",
      "Your guess is too high.Try again\n",
      "50\n",
      "Your guess is too low.Try again.\n",
      "52\n"
     ]
    }
   ],
   "source": [
    "#program 43 Guess the number\n",
    "\n",
    "print(\"Guess the hidden number between 1 and 100.\")\n",
    "guess=int(input())\n",
    "while not guess==\"52\":\n",
    "    if guess>100:\n",
    "        print(\"You guess was not valid.Enter it again\")\n",
    "        guess=int(input())\n",
    "    elif guess>52: \n",
    "        print(\"Your guess is too high.Try again\")\n",
    "        guess=int(input())\n",
    "    elif guess<52:\n",
    "        print(\"Your guess is too low.Try again.\")\n",
    "        guess=int(input())\n",
    "print(\"Correct! Well Done.\")"
   ]
  },
  {
   "cell_type": "code",
   "execution_count": null,
   "id": "eaeb1834",
   "metadata": {},
   "outputs": [],
   "source": []
  },
  {
   "cell_type": "code",
   "execution_count": null,
   "id": "ad2f14a5",
   "metadata": {},
   "outputs": [],
   "source": []
  }
 ],
 "metadata": {
  "kernelspec": {
   "display_name": "Python 3",
   "language": "python",
   "name": "python3"
  },
  "language_info": {
   "codemirror_mode": {
    "name": "ipython",
    "version": 3
   },
   "file_extension": ".py",
   "mimetype": "text/x-python",
   "name": "python",
   "nbconvert_exporter": "python",
   "pygments_lexer": "ipython3",
   "version": "3.8.8"
  }
 },
 "nbformat": 4,
 "nbformat_minor": 5
}
