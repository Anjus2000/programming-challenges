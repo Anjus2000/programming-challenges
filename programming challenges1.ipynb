{
 "cells": [
  {
   "cell_type": "code",
   "execution_count": 4,
   "id": "d212c1ad",
   "metadata": {},
   "outputs": [
    {
     "name": "stdout",
     "output_type": "stream",
     "text": [
      "please enter your nameLister\n",
      "what is your age?39\n",
      "what is your favourite tv programmeRed Dwarf\n",
      "Lister\n",
      "is\n",
      "39\n",
      "years old and likes\n",
      "Red Dwarf\n"
     ]
    }
   ],
   "source": [
    "#program 1  Three in, three out\n",
    "\n",
    "name=input(\"please enter your name\")\n",
    "age=int(input(\"what is your age?\"))\n",
    "programme=input(\"what is your favourite tv programme\")\n",
    "print(name)\n",
    "print(\"is\")\n",
    "print(age)\n",
    "print(\"years old and likes\")\n",
    "print(programme)"
   ]
  },
  {
   "cell_type": "code",
   "execution_count": 3,
   "id": "594782e6",
   "metadata": {},
   "outputs": [
    {
     "name": "stdout",
     "output_type": "stream",
     "text": [
      "David\n",
      "Tennant\n",
      "Tennant David\n"
     ]
    }
   ],
   "source": [
    "#program 2  Name swapper\n",
    "\n",
    "firstname=input()\n",
    "surname=input()\n",
    "print(surname,firstname)"
   ]
  },
  {
   "cell_type": "code",
   "execution_count": 11,
   "id": "9e635752",
   "metadata": {},
   "outputs": [
    {
     "name": "stdout",
     "output_type": "stream",
     "text": [
      "please enter your name?Lister\n",
      "what is your age?39\n",
      "what is your favourite TV programme?Red Dwarf\n",
      "Lister 39\n",
      "Red Dwarf\n"
     ]
    }
   ],
   "source": [
    "#program 3  Three in,three out(formatted)\n",
    "\n",
    "name=input(\"please enter your name?\")\n",
    "age=int(input(\"what is your age?\"))\n",
    "programme=input(\"what is your favourite TV programme?\")\n",
    "print(name,age)\n",
    "print(programme)"
   ]
  },
  {
   "cell_type": "code",
   "execution_count": 12,
   "id": "60e94a88",
   "metadata": {},
   "outputs": [
    {
     "name": "stdout",
     "output_type": "stream",
     "text": [
      "KY\n",
      "8\n",
      "9\n",
      "HL\n",
      "KY8 9HL\n"
     ]
    }
   ],
   "source": [
    "#program 4  Postcade formatter\n",
    "\n",
    "a=input()\n",
    "b=input()\n",
    "c=input()\n",
    "d=input()\n",
    "print(a+str(b),str(c)+d)"
   ]
  },
  {
   "cell_type": "code",
   "execution_count": 15,
   "id": "80c46444",
   "metadata": {},
   "outputs": [
    {
     "name": "stdout",
     "output_type": "stream",
     "text": [
      "please enter the length of the rectangle12\n",
      "please enter the width of the rectangle6\n",
      "The area of the rectangle is: 72 square centimetres\n"
     ]
    }
   ],
   "source": [
    "#program 5 Calculate the area of the rectangle\n",
    "\n",
    "length=int(input(\"please enter the length of the rectangle\"))\n",
    "width=int(input(\"please enter the width of the rectangle\"))\n",
    "area=length*width\n",
    "print(\"The area of the rectangle is:\",area,\"square centimetres\")"
   ]
  },
  {
   "cell_type": "code",
   "execution_count": 3,
   "id": "fe7e8e8b",
   "metadata": {},
   "outputs": [
    {
     "name": "stdout",
     "output_type": "stream",
     "text": [
      "2\n",
      "6\n",
      "26\n"
     ]
    }
   ],
   "source": [
    "#program 6  Number generator\n",
    "\n",
    "a=(input())\n",
    "b=(input())\n",
    "t=a+b\n",
    "print(t)"
   ]
  },
  {
   "cell_type": "code",
   "execution_count": 26,
   "id": "b3b9d83a",
   "metadata": {},
   "outputs": [
    {
     "name": "stdout",
     "output_type": "stream",
     "text": [
      "KY\n",
      "8\n",
      "9\n",
      "hl\n",
      "KY8 9HL\n"
     ]
    }
   ],
   "source": [
    "#program 7  Pstcode formatter(part2)\n",
    "\n",
    "a=input()\n",
    "b=input()\n",
    "c=input()\n",
    "d=input()\n",
    "print(a+(b),(c)+d.upper())"
   ]
  },
  {
   "cell_type": "code",
   "execution_count": 30,
   "id": "de90abb9",
   "metadata": {},
   "outputs": [
    {
     "name": "stdout",
     "output_type": "stream",
     "text": [
      "please enter your forenameDavid\n",
      "please enter your surnamestott\n",
      "There are 10 letters in your name.\n"
     ]
    }
   ],
   "source": [
    "#program 8  Name length\n",
    "\n",
    "forename=input(\"please enter your forename\")\n",
    "surname=input(\"please enter your surname\")\n",
    "name=forename+surname\n",
    "print(\"There are\",len(name),\"letters in your name.\")"
   ]
  },
  {
   "cell_type": "code",
   "execution_count": 40,
   "id": "98eab04b",
   "metadata": {},
   "outputs": [
    {
     "name": "stdout",
     "output_type": "stream",
     "text": [
      "please enter a sentence of your choiceLuke, I am your father\n",
      "a= 2\n",
      "e= 2\n",
      "i= 1\n",
      "o= 1\n",
      "u= 2\n",
      "This is a total of  8 vowels\n"
     ]
    }
   ],
   "source": [
    "#program 9  Counting vowels\n",
    "\n",
    "sentence=input(\"please enter a sentence of your choice\")\n",
    "a1=sentence.count(\"a\")\n",
    "a2=sentence.count(\"A\")\n",
    "A=a1+a2\n",
    "e1=sentence.count(\"e\")\n",
    "e2=sentence.count(\"E\")\n",
    "E=e1+e2\n",
    "i1=sentence.count(\"i\")\n",
    "i2=sentence.count(\"I\")\n",
    "I=i1+i2\n",
    "o1=sentence.count(\"o\")\n",
    "o2=sentence.count(\"O\")\n",
    "O=o1+o2\n",
    "u1=sentence.count(\"u\")\n",
    "U1=sentence.count(\"U\")\n",
    "U=u1+U1\n",
    "print(\"a=\",A)\n",
    "print(\"e=\",E)\n",
    "print(\"i=\",I)\n",
    "print(\"o=\",O)\n",
    "print(\"u=\",U)\n",
    "all=A+E+I+O+U\n",
    "print(\"This is a total of \",all,\"vowels\")"
   ]
  },
  {
   "cell_type": "code",
   "execution_count": 9,
   "id": "a9026889",
   "metadata": {},
   "outputs": [
    {
     "name": "stdout",
     "output_type": "stream",
     "text": [
      "please enter the male report.he should always ensure that his answers contain as much as detail as possible\n",
      "the female comment is:\n",
      "she should always ensure that her answers contain as much as detail as possible\n"
     ]
    }
   ],
   "source": [
    "#program 10  Changing gender\n",
    "\n",
    "report=input(\"please enter the male report.\")\n",
    "report1=report.replace(\"he\",\"she\")\n",
    "report2=report1.replace(\"his\",\"her\")\n",
    "print(\"the female comment is:\")\n",
    "print(report2)"
   ]
  },
  {
   "cell_type": "code",
   "execution_count": 4,
   "id": "69cdcee9",
   "metadata": {},
   "outputs": [
    {
     "name": "stdout",
     "output_type": "stream",
     "text": [
      "please enter the product name.plaza beans\n",
      "please enter the product2016\n",
      "plns26\n"
     ]
    }
   ],
   "source": [
    "#program 11  Stock code generator\n",
    "\n",
    "productname=input(\"please enter the product name.\")\n",
    "year=input(\"please enter the product\")\n",
    "word=productname[0:2]+productname[-2:]+year[0:1]+year[-1:]\n",
    "print(word)\n",
    "\n",
    "\n",
    "\n",
    "\n",
    "\n",
    "\n"
   ]
  },
  {
   "cell_type": "code",
   "execution_count": 4,
   "id": "90fed1b8",
   "metadata": {},
   "outputs": [
    {
     "name": "stdout",
     "output_type": "stream",
     "text": [
      "please enter your three costs.12.78\n",
      "6.32\n",
      "34.99\n",
      "the total cost is $54.09\n",
      "the auction companies fee is $5\n"
     ]
    }
   ],
   "source": [
    "#program 12  auction fee\n",
    "\n",
    "costs=float(input(\"please enter your three costs.\"))\n",
    "costs1=float(input())\n",
    "costs2=float(input())\n",
    "total=costs+costs1+costs2\n",
    "print(\"the total cost is $\"+str(total))\n",
    "a=(total)/10\n",
    "print(\"the auction companies fee is $\"+str(round(a)))"
   ]
  },
  {
   "cell_type": "code",
   "execution_count": 35,
   "id": "d59062e0",
   "metadata": {},
   "outputs": [
    {
     "name": "stdout",
     "output_type": "stream",
     "text": [
      "please enter the radius of the cicle.16\n",
      "the area of the circle is: 803.84 square centimetres\n"
     ]
    }
   ],
   "source": [
    "#program 13  calculate the area of the circle\n",
    "\n",
    "r=int(input(\"please enter the radius of the cicle.\"))\n",
    "area=3.14*(r*r)\n",
    "print(\"the area of the circle is:\",(area),\"square centimetres\")"
   ]
  },
  {
   "cell_type": "code",
   "execution_count": 36,
   "id": "69556388",
   "metadata": {},
   "outputs": [
    {
     "name": "stdout",
     "output_type": "stream",
     "text": [
      "please enter the volume of the jar(cm3):2712.96\n",
      "please enter the volume of one sweet(cm3):2.12\n",
      "1279 swwets fit into the jar\n"
     ]
    }
   ],
   "source": [
    "#program 14  prize draw cheat\n",
    "\n",
    "volume1=float(input(\"please enter the volume of the jar(cm3):\"))\n",
    "volume2=float(input(\"please enter the volume of one sweet(cm3):\"))\n",
    "a=int(volume1/volume2)\n",
    "print(a,\"swwets fit into the jar\")"
   ]
  },
  {
   "cell_type": "code",
   "execution_count": 38,
   "id": "0cd36d70",
   "metadata": {},
   "outputs": [
    {
     "name": "stdout",
     "output_type": "stream",
     "text": [
      "enter the area in m2 to be painted.178\n",
      "enter the area (m2)that a single pot covers.25\n",
      "you will need 8 pots of paint\n",
      "you can paint 3.0 m2 with the lrftover paints\n"
     ]
    }
   ],
   "source": [
    "#program 15  Leftover paint\n",
    "\n",
    "area=int(input(\"enter the area in m2 to be painted.\"))\n",
    "area1=int(input(\"enter the area (m2)that a single pot covers.\"))\n",
    "area2=int((area/area1)+1)\n",
    "left=float(area%area1)\n",
    "print(\"you will need\",area2,\"pots of paint\")\n",
    "print(\"you can paint\",left,\"m2 with the lrftover paints\")"
   ]
  },
  {
   "cell_type": "code",
   "execution_count": 49,
   "id": "b70caad5",
   "metadata": {},
   "outputs": [
    {
     "name": "stdout",
     "output_type": "stream",
     "text": [
      "please enter the length of the brick in cm:20\n",
      "please enter the length of the wall in m:9.89\n",
      "47 bricks build one row of wall.\n",
      "this is  2 cm short of the required wall length\n"
     ]
    }
   ],
   "source": [
    "#program 16  Laying bricks\n",
    "\n",
    "length=int(input(\"please enter the length of the brick in cm:\"))+1\n",
    "length1=float(input(\"please enter the length of the wall in m:\"))\n",
    "a=int((length1*100)/length)\n",
    "b=int((length1*100)%length)\n",
    "print(str(a),\"bricks build one row of wall.\")\n",
    "print(\"this is \",str(b),\"cm short of the required wall length\")\n",
    "\n"
   ]
  },
  {
   "cell_type": "code",
   "execution_count": 50,
   "id": "736808f7",
   "metadata": {},
   "outputs": [
    {
     "name": "stdout",
     "output_type": "stream",
     "text": [
      "enter the number of carbon atoms.3\n",
      "the atomic weght mass of C3H8 is 44\n"
     ]
    }
   ],
   "source": [
    "#program 17  Calculating the atomic weight of hydrocarbons(alkanes)\n",
    "\n",
    "carbon=int(input(\"enter the number of carbon atoms.\"))\n",
    "hydro=(carbon*2)+2\n",
    "atomicweight=(carbon*12)+hydro\n",
    "print(\"the atomic weght mass of C3H8 is\",atomicweight)"
   ]
  },
  {
   "cell_type": "code",
   "execution_count": 52,
   "id": "21b2db90",
   "metadata": {},
   "outputs": [
    {
     "name": "stdout",
     "output_type": "stream",
     "text": [
      "how many par 3 holes are there?6\n",
      "how many par 4 holes are there?10\n",
      "how many par 5 holes are there?2\n",
      "what is the f=difficulty adjustment for the course?-2\n",
      "The standard scratch score for the course is: 66\n"
     ]
    }
   ],
   "source": [
    "#program 18  standard scratch\n",
    "\n",
    "h1=int(input(\"how many par 3 holes are there?\"))\n",
    "a=h1*3\n",
    "h2=int(input(\"how many par 4 holes are there?\"))\n",
    "b=h2*4\n",
    "h3=int(input(\"how many par 5 holes are there?\"))\n",
    "c=h3*5\n",
    "h4=int(input(\"what is the f=difficulty adjustment for the course?\"))\n",
    "d=a+b+c\n",
    "e=d+h4\n",
    "print(\"The standard scratch score for the course is:\",e)\n"
   ]
  },
  {
   "cell_type": "code",
   "execution_count": 59,
   "id": "b58a6bd6",
   "metadata": {},
   "outputs": [
    {
     "name": "stdout",
     "output_type": "stream",
     "text": [
      "what is the circumferance of your wheel in millimetres?1250\n",
      "how many wheel revolutions have taken place in your journey?8920\n",
      "how many minutes did you cycle for?30\n",
      "you covered 11.15 km\n",
      "at an average speed of 22.3 kmh\n"
     ]
    }
   ],
   "source": [
    "#program 19  cycling speed\n",
    "\n",
    "circum=int(input(\"what is the circumferance of your wheel in millimetres?\"))\n",
    "revol=int(input(\"how many wheel revolutions have taken place in your journey?\"))\n",
    "min=int(input(\"how many minutes did you cycle for?\"))\n",
    "dist=(circum*revol)/10**6\n",
    "speed=(dist)/(min/60)\n",
    "print(\"you covered\",dist,\"km\")\n",
    "print(\"at an average speed of\",speed,\"kmh\")"
   ]
  }
 ],
 "metadata": {
  "kernelspec": {
   "display_name": "Python 3",
   "language": "python",
   "name": "python3"
  },
  "language_info": {
   "codemirror_mode": {
    "name": "ipython",
    "version": 3
   },
   "file_extension": ".py",
   "mimetype": "text/x-python",
   "name": "python",
   "nbconvert_exporter": "python",
   "pygments_lexer": "ipython3",
   "version": "3.8.8"
  }
 },
 "nbformat": 4,
 "nbformat_minor": 5
}
